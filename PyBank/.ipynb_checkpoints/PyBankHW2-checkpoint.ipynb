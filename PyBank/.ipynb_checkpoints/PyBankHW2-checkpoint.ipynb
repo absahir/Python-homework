{
 "cells": [
  {
   "cell_type": "code",
   "execution_count": 116,
   "metadata": {},
   "outputs": [
    {
     "data": {
      "text/plain": [
       "'\\nA Python script that analyzes the records to calculate each of the following:\\nThe total number of months included in the dataset.\\nThe net total amount of Profit/Losses over the entire period.\\nThe average of the changes in Profit/Losses over the entire period.\\nThe greatest increase in profits (date and amount) over the entire period.\\nThe greatest decrease in losses (date and amount) over the entire period.\\n\\n'"
      ]
     },
     "execution_count": 116,
     "metadata": {},
     "output_type": "execute_result"
    }
   ],
   "source": [
    "\"\"\"\n",
    "A Python script that analyzes the records to calculate each of the following:\n",
    "The total number of months included in the dataset.\n",
    "The net total amount of Profit/Losses over the entire period.\n",
    "The average of the changes in Profit/Losses over the entire period.\n",
    "The greatest increase in profits (date and amount) over the entire period.\n",
    "The greatest decrease in losses (date and amount) over the entire period.\n",
    "\n",
    "\"\"\""
   ]
  },
  {
   "cell_type": "code",
   "execution_count": 1,
   "metadata": {},
   "outputs": [],
   "source": [
    "#This part of the would read the budget_csv.csv file"
   ]
  },
  {
   "cell_type": "code",
   "execution_count": 118,
   "metadata": {},
   "outputs": [],
   "source": [
    "#Importing the Path method from the pathlib package. This method will be used to define the path of the file.\n",
    "\n",
    "from pathlib import Path\n",
    "\n",
    "#importing csv module. This module implements classes to read and write tabular data in CSV format\n",
    "\n",
    "import csv"
   ]
  },
  {
   "cell_type": "code",
   "execution_count": 34,
   "metadata": {},
   "outputs": [
    {
     "name": "stdout",
     "output_type": "stream",
     "text": [
      "The current working directory:/Users/anukritisharma/Desktop/Fintech/Jupyter-Wprkspace\n"
     ]
    }
   ],
   "source": [
    "#Checking the current working directory\n",
    "\n",
    "print(f\"The current working directory:{Path.cwd()}\")"
   ]
  },
  {
   "cell_type": "code",
   "execution_count": 38,
   "metadata": {},
   "outputs": [],
   "source": [
    "#Setting the path to the csv file that is to be read\n",
    "file_path=Path(\"/Users/anukritisharma/Desktop/Fintech/Jupyter-Wprkspace/budget_data.csv\")"
   ]
  },
  {
   "cell_type": "code",
   "execution_count": 120,
   "metadata": {},
   "outputs": [],
   "source": [
    "#Declare an empty list to store the profit and loss, the respective dates, and changes in the profit and loss\n",
    "pl_value=[]\n",
    "date_list=[]\n",
    "change_val=[]\n",
    "line_count = 0\n",
    "\n",
    "#Initializing variables to calculate the totals\n",
    "\n",
    "Total=0\n",
    "tot_change=0\n",
    "\n",
    "## *********************Open the csv file as an object and Read it***********************\n",
    "\n",
    "with open(file_path,'r') as budget_csv:\n",
    "    #Pass in the csv file to csv.reader function\n",
    "    \n",
    "    csv_reader= csv.reader(budget_csv, delimiter=',')\n",
    "    \n",
    "    \n",
    "    #Jump over the header\n",
    "    csv_header=next(csv_reader)\n",
    "    \n",
    "    #Read the data row by row as a list. Store the 1st and 2nd elements of the list in Date and PnL variable.\n",
    "    \n",
    "    for row in csv_reader:\n",
    "        Date=row[0]\n",
    "        PnL=int(row[1])         #Casting the element as an integer.\n",
    "        \n",
    "        #line_count +=1   \n",
    "        pl_value.append(PnL)    #Appending the value of each PnL value to the previously declared empty l\n",
    "        date_list.append(Date)\n",
    "        Total += PnL            #Running the counter for calculating the total    \n",
    "    \n",
    "##*********************Logic to calculate Max, Min, Sum and Average ******************\n",
    "\n",
    "#Initializing the variables\n",
    "    max_pl=0\n",
    "    min_pl=0\n",
    "    avg_pl=0\n",
    "    sum_pl=0\n",
    "    count_pl=0\n",
    "    \n",
    "    #Start the loop to go through the pl_value list one by one \n",
    "    for profit in pl_value:\n",
    "        sum_pl += profit\n",
    "        count_pl +=1\n",
    "        \n",
    "    #Printing Average Salary\n",
    "    avg_pl=round(sum_pl / count_pl,2)\n",
    "    \n",
    "#calculating the change in Profits/Losses\n",
    "    count_ch=0\n",
    "    for i in range(len(pl_value)-1):\n",
    "        \n",
    "        Change= pl_value[i+1]-pl_value[i]\n",
    "        change_val.append(Change)\n",
    "        tot_change +=Change\n",
    "        count_ch +=1\n",
    "    #Logic for finding the maximum and minimum of the list of chnages\n",
    "    max_value=0\n",
    "    min_value=0\n",
    "    for index, value in enumerate(change_val):\n",
    "        if min_pl==0:\n",
    "            min_pl=profit\n",
    "        elif profit>max_pl:\n",
    "            max_pl=profit\n",
    "        elif profit<min_pl:\n",
    "            min_pl=profit\n",
    "        elif value > max_value:\n",
    "            max_value = value\n",
    "            max_index = index\n",
    "        elif value < min_value:\n",
    "            min_value = value\n",
    "            min_index = index\n",
    "        \n",
    "    avg_pl=round(tot_change / count_ch,2)\n",
    "    \n",
    "##******************** Printing the Output*************************************\n",
    "\n",
    "#Set Output path\n",
    "\n",
    "output_path= Path(\"/Users/anukritisharma/Desktop/Fintech/Jupyter-Wprkspace/budget_output.txt\")\n",
    "    \n",
    "with open(output_path,\"w\") as file:\n",
    "    file.write(f\"Financial Analysis \\n\")\n",
    "    file.write(f\"---------------------------------- \\n\")\n",
    "    file.write(f\"Total Months : {count_pl} \\n\")\n",
    "    file.write(f\"Total : {Total} \\n\")\n",
    "    file.write(f\"The average daily change in profit/losses is ${avg_pl} \\n\")\n",
    "    file.write(f\"The greatest Increase in profit on: {date_list[max_index+1]} (${max_value})\\n\")\n",
    "    file.write(f\"The greatest Decrease in Profits on: {date_list[min_index+1]} (${min_value}) \\n\")\n",
    "            \n",
    "        "
   ]
  }
 ],
 "metadata": {
  "kernelspec": {
   "display_name": "Python 3",
   "language": "python",
   "name": "python3"
  },
  "language_info": {
   "codemirror_mode": {
    "name": "ipython",
    "version": 3
   },
   "file_extension": ".py",
   "mimetype": "text/x-python",
   "name": "python",
   "nbconvert_exporter": "python",
   "pygments_lexer": "ipython3",
   "version": "3.8.5"
  }
 },
 "nbformat": 4,
 "nbformat_minor": 4
}
