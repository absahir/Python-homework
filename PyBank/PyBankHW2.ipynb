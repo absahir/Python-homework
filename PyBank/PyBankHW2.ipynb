{
 "cells": [
  {
   "cell_type": "code",
   "execution_count": null,
   "metadata": {},
   "outputs": [],
   "source": [
    "# A Python script that analyzes the records to calculate each of the following:\n",
    "# The total number of months included in the dataset.\n",
    "# The net total amount of Profit/Losses over the entire period.\n",
    "# The average of the changes in Profit/Losses over the entire period.\n",
    "# The greatest increase in profits (date and amount) over the entire period.\n",
    "# The greatest decrease in losses (date and amount) over the entire period.\n",
    "\n"
   ]
  },
  {
   "cell_type": "code",
   "execution_count": 1,
   "metadata": {},
   "outputs": [],
   "source": [
    "#The final script should print the analysis to the terminal and export a text file with the results"
   ]
  },
  {
   "cell_type": "code",
   "execution_count": 33,
   "metadata": {},
   "outputs": [],
   "source": [
    "from pathlib import Path\n",
    "import csv"
   ]
  },
  {
   "cell_type": "code",
   "execution_count": 34,
   "metadata": {},
   "outputs": [
    {
     "name": "stdout",
     "output_type": "stream",
     "text": [
      "The current working directory:/Users/anukritisharma/Desktop/Fintech/Jupyter-Wprkspace\n"
     ]
    }
   ],
   "source": [
    "print(f\"The current working directory:{Path.cwd()}\")"
   ]
  },
  {
   "cell_type": "code",
   "execution_count": 38,
   "metadata": {},
   "outputs": [],
   "source": [
    "file_path=Path(\"/Users/anukritisharma/Desktop/Fintech/Jupyter-Wprkspace/budget_data.csv\")"
   ]
  },
  {
   "cell_type": "code",
   "execution_count": 95,
   "metadata": {},
   "outputs": [],
   "source": [
    "# #Declare an empty list\n",
    "# pl_value=[]\n",
    "# date_list=[]\n",
    "# change_val=[]\n",
    "# #Open the csv file as an object\n",
    "# with open(file_path,'r') as budget_csv:\n",
    "#     #Pass in the csv file to csv.reader function\n",
    "#     csv_reader= csv.reader(budget_csv, delimiter=',')\n",
    "#     #print(type(csv_reader))\n",
    "#     #read header first\n",
    "#     csv_header=next(csv_reader)\n",
    "#     print(csv_header)\n",
    "#     line_count = 0\n",
    "#     Total=0\n",
    "#     tot_change=0\n",
    "#     for row in csv_reader:\n",
    "#         print(row)\n",
    "#         PnL=int(row[1])\n",
    "#         Date=row[0]\n",
    "#         line_count +=1   \n",
    "#         pl_value.append(PnL)\n",
    "#         date_list.append(Date)\n",
    "#         Total += PnL\n",
    "#     print(f'Processed {line_count} lines.')\n",
    "#     print(date_list)\n",
    "#     print(f\"Total of the Profit and Loss={Total}\")\n",
    "    \n",
    "#     max_pl=0\n",
    "#     min_pl=0\n",
    "#     avg_pl=0\n",
    "#     sum_pl=0\n",
    "#     count_pl=0\n",
    "#     for profit in pl_value:\n",
    "#         sum_pl += profit\n",
    "#         count_pl +=1\n",
    "        \n",
    "# #         #Logic to determine max and min \n",
    "        \n",
    "# #         if min_pl==0:\n",
    "# #             min_pl=profit\n",
    "# #         elif profit>max_pl:\n",
    "# #             max_pl=profit\n",
    "# #         elif profit<min_pl:\n",
    "# #             min_pl=profit\n",
    "    \n",
    "#     #Printing Average Salary\n",
    "#     avg_pl=round(sum_pl / count_pl,2)\n",
    "#     print(f\"The Average daily Profit/Loss is {avg_pl}\")\n",
    "    \n",
    "#     #calculating the change in Profits/Losses\n",
    "#     count_ch=0\n",
    "#     for i in range(len(pl_value)-1):\n",
    "        \n",
    "#         Change= pl_value[i+1]-pl_value[i]\n",
    "#         change_val.append(Change)\n",
    "#         tot_change +=Change\n",
    "#         count_ch +=1\n",
    "#     #Logic for finding the maximum and minimum of the list of chnages\n",
    "#     max_value=0\n",
    "#     min_value=0\n",
    "#     for index, value in enumerate(change_val):\n",
    "#         if min_pl==0:\n",
    "#             min_pl=profit\n",
    "#         elif profit>max_pl:\n",
    "#             max_pl=profit\n",
    "#         elif profit<min_pl:\n",
    "#             min_pl=profit\n",
    "#         elif value > max_value:\n",
    "#             max_value = value\n",
    "#             max_index = index\n",
    "#         elif value < min_value:\n",
    "#             min_value = value\n",
    "#             min_index = index\n",
    "        \n",
    "#     avg_pl=round(tot_change / count_ch,2)\n",
    "#     print(f\"The average daily change in profit/losses is ${avg_pl}\")\n",
    "#     print(f\"The maximum value of change is ${max_value} that happened on {date_list[max_index+1]}\")\n",
    "#     print(f\"The minimum value of change is ${min_value} that happened on {date_list[min_index+1]}\")\n",
    "    \n",
    "    \n",
    "#     #for row in csvreader:\n",
    "#         #Print the row\n",
    "#         #print(row)\n",
    "        \n",
    "#         #Set the two columns into two distinct variables\n",
    "        \n",
    "#         #Date=row[0]\n",
    "        \n",
    "#         #PnL=int(row[1])\n",
    "        \n",
    "#         #print(type(PnL))\n",
    "        \n",
    "#         #print(PnL)\n",
    "        "
   ]
  },
  {
   "cell_type": "code",
   "execution_count": 99,
   "metadata": {},
   "outputs": [
    {
     "name": "stdout",
     "output_type": "stream",
     "text": [
      "The Average daily Profit/Loss is 446309.05\n",
      "The average daily change in profit/losses is $-2315.12\n",
      "The maximum value of change is $1926159 that happened on Feb-2012\n",
      "The minimum value of change is $-2196167 that happened on Sep-2013\n"
     ]
    }
   ],
   "source": [
    "#Declare an empty list\n",
    "pl_value=[]\n",
    "date_list=[]\n",
    "change_val=[]\n",
    "line_count = 0\n",
    "Total=0\n",
    "tot_change=0\n",
    "#Open the csv file as an object\n",
    "with open(file_path,'r') as budget_csv:\n",
    "    #Pass in the csv file to csv.reader function\n",
    "    csv_reader= csv.reader(budget_csv, delimiter=',')\n",
    "    #print(type(csv_reader))\n",
    "    #read header first\n",
    "    csv_header=next(csv_reader)\n",
    "    \n",
    "    for row in csv_reader:\n",
    "        Date=row[0]\n",
    "        PnL=int(row[1])\n",
    "        \n",
    "        line_count +=1   \n",
    "        pl_value.append(PnL)\n",
    "        date_list.append(Date)\n",
    "        Total += PnL\n",
    "    \n",
    "#Logic to calculate \n",
    "\n",
    "    max_pl=0\n",
    "    min_pl=0\n",
    "    avg_pl=0\n",
    "    sum_pl=0\n",
    "    count_pl=0\n",
    "    for profit in pl_value:\n",
    "        sum_pl += profit\n",
    "        count_pl +=1\n",
    "        \n",
    "#Printing Average Salary\n",
    "    avg_pl=round(sum_pl / count_pl,2)\n",
    "    print(f\"The Average daily Profit/Loss is {avg_pl}\")\n",
    "    \n",
    "#calculating the change in Profits/Losses\n",
    "    count_ch=0\n",
    "    for i in range(len(pl_value)-1):\n",
    "        \n",
    "        Change= pl_value[i+1]-pl_value[i]\n",
    "        change_val.append(Change)\n",
    "        tot_change +=Change\n",
    "        count_ch +=1\n",
    "    #Logic for finding the maximum and minimum of the list of chnages\n",
    "    max_value=0\n",
    "    min_value=0\n",
    "    for index, value in enumerate(change_val):\n",
    "        if min_pl==0:\n",
    "            min_pl=profit\n",
    "        elif profit>max_pl:\n",
    "            max_pl=profit\n",
    "        elif profit<min_pl:\n",
    "            min_pl=profit\n",
    "        elif value > max_value:\n",
    "            max_value = value\n",
    "            max_index = index\n",
    "        elif value < min_value:\n",
    "            min_value = value\n",
    "            min_index = index\n",
    "        \n",
    "    avg_pl=round(tot_change / count_ch,2)\n",
    "    print(f\"The average daily change in profit/losses is ${avg_pl}\")\n",
    "    print(f\"The maximum value of change is ${max_value} that happened on {date_list[max_index+1]}\")\n",
    "    print(f\"The minimum value of change is ${min_value} that happened on {date_list[min_index+1]}\")\n",
    "    \n",
    "    \n",
    "        "
   ]
  },
  {
   "cell_type": "code",
   "execution_count": 100,
   "metadata": {},
   "outputs": [],
   "source": [
    "#Set Output path\n",
    "\n",
    "output_path= Path(\"/Users/anukritisharma/Desktop/Fintech/Jupyter-Wprkspace/budget_output.txt\")"
   ]
  },
  {
   "cell_type": "code",
   "execution_count": 110,
   "metadata": {},
   "outputs": [],
   "source": [
    "with open(output_path,\"w\") as file:\n",
    "    file.write(f\"Financial Analysis \\n\")\n",
    "    file.write(f\"---------------------------------- \\n\")\n",
    "    file.write(f\"Total Months : {count_pl} \\n\")\n",
    "    file.write(f\"Total : {Total} \\n\")\n",
    "    file.write(f\"The average daily change in profit/losses is ${avg_pl} \\n\")\n",
    "    file.write(f\"The greatest Increase in profit on: {date_list[max_index+1]} (${max_value})\\n\")\n",
    "    file.write(f\"The greatest Decrease in Profits on: {date_list[min_index+1]} (${min_value}) \\n\")\n",
    "            "
   ]
  },
  {
   "cell_type": "code",
   "execution_count": null,
   "metadata": {},
   "outputs": [],
   "source": []
  }
 ],
 "metadata": {
  "kernelspec": {
   "display_name": "Python 3",
   "language": "python",
   "name": "python3"
  },
  "language_info": {
   "codemirror_mode": {
    "name": "ipython",
    "version": 3
   },
   "file_extension": ".py",
   "mimetype": "text/x-python",
   "name": "python",
   "nbconvert_exporter": "python",
   "pygments_lexer": "ipython3",
   "version": "3.8.5"
  }
 },
 "nbformat": 4,
 "nbformat_minor": 4
}
